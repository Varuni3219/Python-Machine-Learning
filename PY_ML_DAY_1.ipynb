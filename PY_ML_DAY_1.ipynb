{
  "nbformat": 4,
  "nbformat_minor": 0,
  "metadata": {
    "colab": {
      "provenance": []
    },
    "kernelspec": {
      "name": "python3",
      "display_name": "Python 3"
    },
    "language_info": {
      "name": "python"
    }
  },
  "cells": [
    {
      "cell_type": "code",
      "source": [
        "name=\"Varuni\"\n",
        "print(f\"My name is {name}\")"
      ],
      "metadata": {
        "colab": {
          "base_uri": "https://localhost:8080/"
        },
        "id": "Q9LCF21A-MFO",
        "outputId": "924f4b8c-a3be-4658-9966-ac43b76896fd"
      },
      "execution_count": null,
      "outputs": [
        {
          "output_type": "stream",
          "name": "stdout",
          "text": [
            "My name is Varuni\n"
          ]
        }
      ]
    },
    {
      "cell_type": "code",
      "source": [
        "a=\"Varuni\"\n",
        "b=\"BCA\"\n",
        "print(f\"My degree is {b} and My name is {a}\")"
      ],
      "metadata": {
        "colab": {
          "base_uri": "https://localhost:8080/"
        },
        "id": "Pvc-vLaY-q0s",
        "outputId": "f6498f48-1698-4f60-b98f-73a669b38cdd"
      },
      "execution_count": null,
      "outputs": [
        {
          "output_type": "stream",
          "name": "stdout",
          "text": [
            "My degree is BCA and My name is Varuni\n"
          ]
        }
      ]
    },
    {
      "cell_type": "code",
      "source": [
        "a,b=\"Varuni\",\"BCA\"\n",
        "print(f\"My degree is {b} and My name is {a}\")"
      ],
      "metadata": {
        "colab": {
          "base_uri": "https://localhost:8080/"
        },
        "id": "4i2JitiN_q9c",
        "outputId": "e9d72ed3-5e1b-4b89-8f2b-b80bc2b7829c"
      },
      "execution_count": null,
      "outputs": [
        {
          "output_type": "stream",
          "name": "stdout",
          "text": [
            "My degree is BCA and My name is Varuni\n"
          ]
        }
      ]
    },
    {
      "cell_type": "markdown",
      "source": [
        "#Python Syntax & Structure"
      ],
      "metadata": {
        "id": "hCwPONycGxP-"
      }
    },
    {
      "cell_type": "markdown",
      "source": [
        "###Basic Syntax Rules"
      ],
      "metadata": {
        "id": "thaqZYqdHe1U"
      }
    },
    {
      "cell_type": "code",
      "source": [
        "print(\"HELLO WORLD\")#Function Call\n",
        "X=5#Variables\n",
        "Y=10#No need to deaclare type"
      ],
      "metadata": {
        "colab": {
          "base_uri": "https://localhost:8080/"
        },
        "id": "zNy8yrpjEL6-",
        "outputId": "0d8a384f-e0ae-40ef-b29a-8f2ea6398bdb"
      },
      "execution_count": null,
      "outputs": [
        {
          "output_type": "stream",
          "name": "stdout",
          "text": [
            "HELLO WORLD\n"
          ]
        }
      ]
    },
    {
      "cell_type": "markdown",
      "source": [
        "###Python is case-sensitive"
      ],
      "metadata": {
        "id": "FTaXyq4AHpUF"
      }
    },
    {
      "cell_type": "code",
      "source": [
        "Name=\"John\"\n",
        "name=\"Jane\"\n",
        "print(f\"NAME IS {Name} and name is {name}\")#Different Variables"
      ],
      "metadata": {
        "colab": {
          "base_uri": "https://localhost:8080/"
        },
        "id": "wtHiBRDoHze0",
        "outputId": "d5384486-3745-442b-e514-79e00f4b0981"
      },
      "execution_count": null,
      "outputs": [
        {
          "output_type": "stream",
          "name": "stdout",
          "text": [
            "NAME IS John and name is Jane\n"
          ]
        }
      ]
    },
    {
      "cell_type": "markdown",
      "source": [
        "###Indentation Matters!!"
      ],
      "metadata": {
        "id": "qD2DmmCVIWOX"
      }
    },
    {
      "cell_type": "code",
      "source": [
        "if X>0:\n",
        "  print(\"X is positive\")#4 spaces indentation\n",
        "  print(\"This is inside the if block\")"
      ],
      "metadata": {
        "colab": {
          "base_uri": "https://localhost:8080/"
        },
        "id": "1aXC_VO7IeS0",
        "outputId": "1a6b2a2d-6eba-484d-d382-4658df73bf80"
      },
      "execution_count": null,
      "outputs": [
        {
          "output_type": "stream",
          "name": "stdout",
          "text": [
            "X is positive\n",
            "This is inside the if block\n"
          ]
        }
      ]
    },
    {
      "cell_type": "markdown",
      "source": [
        "#Variables & Datatypes\n",
        "\n"
      ],
      "metadata": {
        "id": "486L8cpsJRld"
      }
    },
    {
      "cell_type": "markdown",
      "source": [
        "###Numeric Types"
      ],
      "metadata": {
        "id": "6WyoziGIJhGV"
      }
    },
    {
      "cell_type": "code",
      "source": [
        "age=25#integer\n",
        "height=5.8#float\n",
        "complex_num=2+3j#complex\n",
        "print(age,height,complex_num)"
      ],
      "metadata": {
        "colab": {
          "base_uri": "https://localhost:8080/"
        },
        "id": "b-m1X-CXJnhM",
        "outputId": "efc1dea9-b7fe-4b85-f576-bb96e3ab178d"
      },
      "execution_count": null,
      "outputs": [
        {
          "output_type": "stream",
          "name": "stdout",
          "text": [
            "25 5.8 (2+3j)\n"
          ]
        }
      ]
    },
    {
      "cell_type": "markdown",
      "source": [
        "###String Types"
      ],
      "metadata": {
        "id": "kByf8ESjKPTF"
      }
    },
    {
      "cell_type": "code",
      "source": [
        "name=\"Alice\"\n",
        "message='Hello World'\n",
        "multiline=\"\"\" This is\n",
        "              multiline string type\"\"\"\n",
        "print(name,message,multiline)"
      ],
      "metadata": {
        "colab": {
          "base_uri": "https://localhost:8080/"
        },
        "id": "27Qc1RWAKfxU",
        "outputId": "64fd10a7-966c-4e8a-8964-df125c95bacc"
      },
      "execution_count": null,
      "outputs": [
        {
          "output_type": "stream",
          "name": "stdout",
          "text": [
            "Alice Hello World  This is\n",
            "              multiline string type\n"
          ]
        }
      ]
    },
    {
      "cell_type": "markdown",
      "source": [
        "###Boolean Type"
      ],
      "metadata": {
        "id": "cTK-qTB1NQG1"
      }
    },
    {
      "cell_type": "code",
      "source": [
        "is_active=True\n",
        "is_finished=False"
      ],
      "metadata": {
        "id": "34MxiLkuNSgd"
      },
      "execution_count": null,
      "outputs": []
    },
    {
      "cell_type": "markdown",
      "source": [
        "###Type Checking"
      ],
      "metadata": {
        "id": "uhmFgrS5NbyU"
      }
    },
    {
      "cell_type": "code",
      "source": [
        "print(type(age))#<class 'int'>\n",
        "print(type(height))#<class 'float'>\n",
        "print(type(name))#<class 'str'>"
      ],
      "metadata": {
        "colab": {
          "base_uri": "https://localhost:8080/"
        },
        "id": "gEqB1LTBNf5V",
        "outputId": "4cb24012-aa2e-4aa7-e615-405b58493e32"
      },
      "execution_count": null,
      "outputs": [
        {
          "output_type": "stream",
          "name": "stdout",
          "text": [
            "<class 'int'>\n",
            "<class 'float'>\n",
            "<class 'str'>\n"
          ]
        }
      ]
    },
    {
      "cell_type": "markdown",
      "source": [
        "###Type Conversion"
      ],
      "metadata": {
        "id": "q2rJMV7dN360"
      }
    },
    {
      "cell_type": "code",
      "source": [
        "str_number=\"123\"\n",
        "int_number=int(str_number)\n",
        "float_number=float(str_number)\n",
        "\n",
        "print(f\"Original:{str_number} (type:{type(str_number)})\")\n",
        "print(f\"Integer:{int_number} (type:{type(int_number)})\")\n",
        "print(f\"Float:{float_number} (type:{type(float_number)})\")"
      ],
      "metadata": {
        "colab": {
          "base_uri": "https://localhost:8080/"
        },
        "id": "KFcWeu_pN6ls",
        "outputId": "aaca7d1e-fc5d-4d61-9061-4404b9d56ce5"
      },
      "execution_count": null,
      "outputs": [
        {
          "output_type": "stream",
          "name": "stdout",
          "text": [
            "Original:123 (type:<class 'str'>)\n",
            "Integer:123 (type:<class 'int'>)\n",
            "Float:123.0 (type:<class 'float'>)\n"
          ]
        }
      ]
    },
    {
      "cell_type": "markdown",
      "source": [
        "###**Hands-On Excercise**"
      ],
      "metadata": {
        "id": "PyGKnIPqf_I3"
      }
    },
    {
      "cell_type": "markdown",
      "source": [
        "Exercise 01:Personal Information"
      ],
      "metadata": {
        "id": "10YlETMmgOt-"
      }
    },
    {
      "cell_type": "markdown",
      "source": [
        "######Create variables for personal information"
      ],
      "metadata": {
        "id": "Uwoj9_RAgIM1"
      }
    },
    {
      "cell_type": "code",
      "source": [
        "first_name=\"Varuni\"\n",
        "last_name=\"Mokashi\"\n",
        "age=19\n",
        "height=5.8\n",
        "is_student=True"
      ],
      "metadata": {
        "id": "suLnRvUkhJs-"
      },
      "execution_count": null,
      "outputs": []
    },
    {
      "cell_type": "markdown",
      "source": [
        "######Print formatted information"
      ],
      "metadata": {
        "id": "xsDyafJ_iUIF"
      }
    },
    {
      "cell_type": "code",
      "source": [
        "print(f\"Name is:{first_name} {last_name}\")\n",
        "print(f\"Age is:{age}\")\n",
        "print(f\"Height is:{height}feet\")\n",
        "print(f\"Student:{is_student}\")"
      ],
      "metadata": {
        "colab": {
          "base_uri": "https://localhost:8080/"
        },
        "id": "VgkNIm1nih82",
        "outputId": "5708b28a-f66e-44fa-e5d4-8729c6b94b61"
      },
      "execution_count": null,
      "outputs": [
        {
          "output_type": "stream",
          "name": "stdout",
          "text": [
            "Name is:Varuni Mokashi\n",
            "Age is:19\n",
            "Height is:5.8feet\n",
            "Student:True\n"
          ]
        }
      ]
    },
    {
      "cell_type": "markdown",
      "source": [
        "#####Type Conversions"
      ],
      "metadata": {
        "id": "GJ8nSeHhkHTW"
      }
    },
    {
      "cell_type": "code",
      "source": [
        "age_str=str(age)\n",
        "height_int=int(height)\n",
        "print(f\"Age is:{age_str}\")\n",
        "print(f\"Height is:{height_int}feet\")\n"
      ],
      "metadata": {
        "colab": {
          "base_uri": "https://localhost:8080/"
        },
        "id": "gcbfxDAQkLnl",
        "outputId": "45b4c0de-70e8-4d0e-c3ab-bcb3bf29a45f"
      },
      "execution_count": null,
      "outputs": [
        {
          "output_type": "stream",
          "name": "stdout",
          "text": [
            "Age is:19\n",
            "Height is:5feet\n"
          ]
        }
      ]
    },
    {
      "cell_type": "markdown",
      "source": [
        "##Operators & Basic Opreations"
      ],
      "metadata": {
        "id": "2zda-8Bxk2mG"
      }
    },
    {
      "cell_type": "markdown",
      "source": [
        "####Arithmetic Operators"
      ],
      "metadata": {
        "id": "WNd1S2bOmJTG"
      }
    },
    {
      "cell_type": "code",
      "source": [
        "a=10\n",
        "b=3\n",
        "\n",
        "print(f\"Addition:{a}+{b}={a+b}\")\n",
        "print(f\"Subtraction:{a}-{b}={a-b}\")\n",
        "print(f\"Multiplication:{a}*{b}={a*b}\")\n",
        "print(f\"Division:{a}/{b}={a/b}\")\n",
        "print(f\"Floor Division:{a}//{b}={a-b}\")\n",
        "print(f\"Modulas:{a}%{b}={a%b}\")\n",
        "print(f\"Exponentiation:{a} ** {b}={a**b}\")"
      ],
      "metadata": {
        "colab": {
          "base_uri": "https://localhost:8080/"
        },
        "id": "OQPay_m9mWfl",
        "outputId": "6da292a1-fbcb-4229-f76e-2d7554125172"
      },
      "execution_count": null,
      "outputs": [
        {
          "output_type": "stream",
          "name": "stdout",
          "text": [
            "Addition:10+3=13\n",
            "Subtraction:10-3=7\n",
            "Multiplication:10*3=30\n",
            "Division:10/3=3.3333333333333335\n",
            "Floor Division:10//3=7\n",
            "Modulas:10%3=1\n",
            "Exponentiation:10 ** 3=1000\n"
          ]
        }
      ]
    },
    {
      "cell_type": "markdown",
      "source": [
        "####Order Of Operation(PEMDAS)\n",
        "\n",
        "\n",
        "\n",
        "* P - Paranthesis\n",
        "* E - Exponentiation\n",
        "* M - Multiplication\n",
        "* D - Division\n",
        "* A - Addition\n",
        "* S -Subtraction\n"
      ],
      "metadata": {
        "id": "H3Vr5BHcnwB9"
      }
    },
    {
      "cell_type": "code",
      "source": [
        "result=2+3*4**2-1\n",
        "print(f\"2+3*4**2-1={result}\")"
      ],
      "metadata": {
        "colab": {
          "base_uri": "https://localhost:8080/"
        },
        "id": "F9-63EQDpepu",
        "outputId": "ac66deb4-24c9-4f23-9fb6-049078ef9cce"
      },
      "execution_count": null,
      "outputs": [
        {
          "output_type": "stream",
          "name": "stdout",
          "text": [
            "2+3*4**2-1=49\n"
          ]
        }
      ]
    },
    {
      "cell_type": "markdown",
      "source": [
        "####Relational (or) Comparison Operators"
      ],
      "metadata": {
        "id": "fMgCEP_0psiG"
      }
    },
    {
      "cell_type": "code",
      "source": [
        "x=5\n",
        "y=10\n",
        "\n",
        "print(f\"{x}=={y}:{x==y}\") #EQUALS TO\n",
        "print(f\"{x}!={y}:{x!=y}\") #NOT EQULAS TO\n",
        "print(f\"{x}<{y}:{x<y}\") #LESSER THAN\n",
        "print(f\"{x}>{y}:{x>y}\") #GREATER THAN\n",
        "print(f\"{x}<={y}:{x<=y}\") #LESSER THAN OR EQUALS TO\n",
        "print(f\"{x}>={y}:{x>=y}\") #GREATER THAN OR EQUALS TO\n",
        "\n"
      ],
      "metadata": {
        "colab": {
          "base_uri": "https://localhost:8080/"
        },
        "id": "F43PBzKNqFCd",
        "outputId": "43f3f74b-dc56-4cca-b5ac-eb3af12f5867"
      },
      "execution_count": null,
      "outputs": [
        {
          "output_type": "stream",
          "name": "stdout",
          "text": [
            "5==10:False\n",
            "5!=10:True\n",
            "5<10:True\n",
            "5>10:False\n",
            "5<=10:True\n",
            "5>=10:False\n"
          ]
        }
      ]
    },
    {
      "cell_type": "markdown",
      "source": [
        "####String Comparison"
      ],
      "metadata": {
        "id": "_zhsQhZgsphO"
      }
    },
    {
      "cell_type": "code",
      "source": [
        "name1=\"Alice\"\n",
        "name2=\"Bob\"\n",
        "print(f\"'{name1}'<'{name2}':{name1<name2}\")#ALPHABETICAL ORDER"
      ],
      "metadata": {
        "colab": {
          "base_uri": "https://localhost:8080/"
        },
        "id": "AQiVNln0ssD-",
        "outputId": "c5f2d788-d2f6-4c84-d770-16dcb3ad169d"
      },
      "execution_count": null,
      "outputs": [
        {
          "output_type": "stream",
          "name": "stdout",
          "text": [
            "'Alice'<'Bob':True\n"
          ]
        }
      ]
    },
    {
      "cell_type": "markdown",
      "source": [
        "####Logical Operators"
      ],
      "metadata": {
        "id": "5c27weO_vH_u"
      }
    },
    {
      "cell_type": "code",
      "source": [
        "p=True\n",
        "q=False\n",
        "\n",
        "print(f\"p and q:{p and q}\")#BOTH MUST BE TRUE\n",
        "print(f\"p or q:{p or q}\")#ATLEAST ONE MUST BE TRUE\n",
        "print(f\"not p :{not p}\")#OPPOSITE OF p"
      ],
      "metadata": {
        "colab": {
          "base_uri": "https://localhost:8080/"
        },
        "id": "kTm4c1GzvNDG",
        "outputId": "a8b4792f-9237-48ea-cc31-b6cf528e9882"
      },
      "execution_count": null,
      "outputs": [
        {
          "output_type": "stream",
          "name": "stdout",
          "text": [
            "p and q:False\n",
            "p or q:True\n",
            "not p :False\n"
          ]
        }
      ]
    },
    {
      "cell_type": "code",
      "source": [
        "#Practical example\n",
        "age=20\n",
        "has_license=True\n",
        "can_drive= age  >=18 and has_license\n",
        "print(f\"Can Drive:{can_drive}\")"
      ],
      "metadata": {
        "colab": {
          "base_uri": "https://localhost:8080/"
        },
        "id": "UcXI7C4RwvWu",
        "outputId": "13214ff2-011d-400e-9f92-600e7aa31714"
      },
      "execution_count": null,
      "outputs": [
        {
          "output_type": "stream",
          "name": "stdout",
          "text": [
            "Can Drive:True\n"
          ]
        }
      ]
    },
    {
      "cell_type": "code",
      "source": [
        "#Multiple Conditions\n",
        "score=85\n",
        "is_present=True\n",
        "can_pass= score >=80 and is_present\n",
        "print(f\"Can pass:{can_pass}\")"
      ],
      "metadata": {
        "colab": {
          "base_uri": "https://localhost:8080/"
        },
        "id": "BR3f8BOsxaed",
        "outputId": "0c8f6848-da61-4132-9367-6ebb327f2e57"
      },
      "execution_count": null,
      "outputs": [
        {
          "output_type": "stream",
          "name": "stdout",
          "text": [
            "Can pass:True\n"
          ]
        }
      ]
    },
    {
      "cell_type": "markdown",
      "source": [
        "##**Hands-On Exercise**\n",
        "\n",
        "*Excercise 02:Simple Calculator*\n",
        "\n",
        "Create calculator that checks if a person qulaifies for a loan\n",
        "\n"
      ],
      "metadata": {
        "id": "cBvfk_FhyOb-"
      }
    },
    {
      "cell_type": "code",
      "source": [
        "#Personal Information\n",
        "age=25\n",
        "annual_income=50000\n",
        "credit_score=720\n",
        "has_collateral=True"
      ],
      "metadata": {
        "id": "qqCIpmARzE2W"
      },
      "execution_count": null,
      "outputs": []
    },
    {
      "cell_type": "code",
      "source": [
        "#Loan Criteria\n",
        "min_age=18\n",
        "min_income=30000\n",
        "min_credit_score=650"
      ],
      "metadata": {
        "id": "BLSXWMhKzW2-"
      },
      "execution_count": null,
      "outputs": []
    },
    {
      "cell_type": "code",
      "source": [
        "#Check Qualifications\n",
        "age_qualified= age>=min_age\n",
        "income_qualified= annual_income >=min_income\n",
        "credit_qualified =credit_score >=min_credit_score\n",
        "overall_qualified=age_qualified and income_qualified and credit_qualified"
      ],
      "metadata": {
        "id": "Vpy2qVQK3iOO"
      },
      "execution_count": null,
      "outputs": []
    },
    {
      "cell_type": "code",
      "source": [
        "age=25\n",
        "annual_income=50000\n",
        "credit_score=320\n",
        "get_qualify=True\n",
        "can_get_loan= age >=17 and get_qualify\n",
        "print(f\"Qualified in age:{can_get_loan}\")\n",
        "can_get_loan=annual_income >=25000 and get_qualify\n",
        "print(f\"Qualified in income:{can_get_loan}\")\n",
        "can_get_loan=credit_score >=500 and get_qualify\n",
        "print(f\"Qualified in credit score:{can_get_loan}\")"
      ],
      "metadata": {
        "colab": {
          "base_uri": "https://localhost:8080/"
        },
        "id": "R7KYTq490QC-",
        "outputId": "960c39fd-c718-4da1-bc8c-62b1c4de857f"
      },
      "execution_count": null,
      "outputs": [
        {
          "output_type": "stream",
          "name": "stdout",
          "text": [
            "Qualified in age:True\n",
            "Qualified in income:True\n",
            "Qualified in credit score:False\n"
          ]
        }
      ]
    },
    {
      "cell_type": "markdown",
      "source": [
        "##**Data Structures**"
      ],
      "metadata": {
        "id": "P4ks2Z_6-1d4"
      }
    },
    {
      "cell_type": "markdown",
      "source": [
        "####Lists"
      ],
      "metadata": {
        "id": "Eh_3fm8C-8AO"
      }
    },
    {
      "cell_type": "markdown",
      "source": [
        "#####Creating Lists"
      ],
      "metadata": {
        "id": "mBcSh4EP-9_e"
      }
    },
    {
      "cell_type": "code",
      "source": [
        "fruits=[\"apple\",\"banana\",\"orange\",\"grape\"]\n",
        "numbers=[10,20,30,40,50]\n",
        "mixed_data=[1,\"Hello\",3.14,True]"
      ],
      "metadata": {
        "id": "xwNPPWl-_BAW"
      },
      "execution_count": null,
      "outputs": []
    },
    {
      "cell_type": "markdown",
      "source": [
        "#####List indexing(0-based)"
      ],
      "metadata": {
        "id": "I27R7a-3_bJG"
      }
    },
    {
      "cell_type": "code",
      "source": [
        "print(f\"First Fruit:{fruits[0]}\")\n",
        "print(f\"Last Fruit:{fruits[-1]}\")\n",
        "print(f\"Second To Last Fruit:{fruits[-2]}\")"
      ],
      "metadata": {
        "colab": {
          "base_uri": "https://localhost:8080/"
        },
        "id": "rR6kqcxF_f7m",
        "outputId": "9772b8c4-10e3-452c-df9f-cdb51fbd9871"
      },
      "execution_count": null,
      "outputs": [
        {
          "output_type": "stream",
          "name": "stdout",
          "text": [
            "First Fruit:apple\n",
            "Last Fruit:grape\n",
            "Second To Last Fruit:orange\n"
          ]
        }
      ]
    },
    {
      "cell_type": "markdown",
      "source": [
        "####List Silicing"
      ],
      "metadata": {
        "id": "RFkJWC_xAYke"
      }
    },
    {
      "cell_type": "code",
      "source": [
        "print(f\"First 2 fruits:{fruits[0:2]}\")\n",
        "print(f\"Last 2 Fruit:{fruits[-2]}\")\n",
        "print(f\"All except first:{fruits[1:]}\")"
      ],
      "metadata": {
        "colab": {
          "base_uri": "https://localhost:8080/"
        },
        "id": "LDZkkrnXAbw2",
        "outputId": "db77706b-d401-4e15-c81f-a481af2dacb2"
      },
      "execution_count": null,
      "outputs": [
        {
          "output_type": "stream",
          "name": "stdout",
          "text": [
            "First 2 fruits:['apple', 'banana']\n",
            "Last 2 Fruit:orange\n",
            "All except first:['banana', 'orange', 'grape']\n"
          ]
        }
      ]
    },
    {
      "cell_type": "markdown",
      "source": [
        "####List Methods"
      ],
      "metadata": {
        "id": "lOfqxpbeBTBP"
      }
    },
    {
      "cell_type": "code",
      "source": [
        "fruits.append(\"kiwi\")#Add to end\n",
        "fruits.insert(1, \"Strawberry\")#Insert at index\n",
        "removed = fruits.pop()#Remove last\n",
        "print(f\"Updated list: {fruits}\")\n",
        "print(f\"Removed: {removed}\")"
      ],
      "metadata": {
        "colab": {
          "base_uri": "https://localhost:8080/"
        },
        "id": "WYIBpy99BVam",
        "outputId": "d8270d43-b3d1-46f3-a7fb-121a295d286d"
      },
      "execution_count": null,
      "outputs": [
        {
          "output_type": "stream",
          "name": "stdout",
          "text": [
            "Updated list: ['apple', 'Strawberry', 'banana', 'orange', 'grape']\n",
            "Removed: kiwi\n"
          ]
        }
      ]
    },
    {
      "cell_type": "markdown",
      "source": [
        "####List Operations"
      ],
      "metadata": {
        "id": "TUczYdxbCLTG"
      }
    },
    {
      "cell_type": "code",
      "source": [
        "print(f\"Length:{len(fruits)}\")\n",
        "print(f\"Contains 'apple':{'apple' in fruits}\")\n",
        "print(f\"Index of 'banana:{fruits.index('banana')}\")"
      ],
      "metadata": {
        "colab": {
          "base_uri": "https://localhost:8080/"
        },
        "id": "0UqxynXMCN2O",
        "outputId": "94a4492a-556e-4a1d-dad6-4652f9bf4a88"
      },
      "execution_count": null,
      "outputs": [
        {
          "output_type": "stream",
          "name": "stdout",
          "text": [
            "Length:5\n",
            "Contains 'apple':True\n",
            "Index of 'banana:2\n"
          ]
        }
      ]
    },
    {
      "cell_type": "markdown",
      "source": [
        "####Tuples"
      ],
      "metadata": {
        "id": "8CqYmOnoDRYu"
      }
    },
    {
      "cell_type": "markdown",
      "source": [
        "####Tuples are immuatble"
      ],
      "metadata": {
        "id": "pOqz09AYDWAu"
      }
    },
    {
      "cell_type": "code",
      "source": [
        "coordinates=(10,20)\n",
        "rgb_color=(255,128,0)\n",
        "person_info=(\"Alice\", 25 ,\"Engineer\",True)\n"
      ],
      "metadata": {
        "id": "TguKXfbODaDH"
      },
      "execution_count": null,
      "outputs": []
    },
    {
      "cell_type": "markdown",
      "source": [
        "####Tuple Unpacking"
      ],
      "metadata": {
        "id": "wAMRpBvMD7Fm"
      }
    },
    {
      "cell_type": "code",
      "source": [
        "x,y=coordinates\n",
        "print(f\"x:{x},y:{y}\")"
      ],
      "metadata": {
        "colab": {
          "base_uri": "https://localhost:8080/"
        },
        "id": "pBgbhY9oD-DO",
        "outputId": "4fcc5e50-eda1-4aa9-a522-ec1587796740"
      },
      "execution_count": null,
      "outputs": [
        {
          "output_type": "stream",
          "name": "stdout",
          "text": [
            "x:10,y:20\n"
          ]
        }
      ]
    },
    {
      "cell_type": "markdown",
      "source": [
        "####Tuple Methods"
      ],
      "metadata": {
        "id": "bWGF3qmLFT4O"
      }
    },
    {
      "cell_type": "code",
      "source": [
        "print(f\"Count of 25:{person_info.count(25)}\")\n",
        "print(f\"Index of 'Engineer :{person_info.index('Engineer')}\")"
      ],
      "metadata": {
        "colab": {
          "base_uri": "https://localhost:8080/"
        },
        "id": "ZVmx1SbNFdYu",
        "outputId": "92cd1b84-e616-4f11-8c59-b793c7adfa0a"
      },
      "execution_count": null,
      "outputs": [
        {
          "output_type": "stream",
          "name": "stdout",
          "text": [
            "Count of 25:1\n",
            "Index of 'Engineer :2\n"
          ]
        }
      ]
    },
    {
      "cell_type": "markdown",
      "source": [
        "####Why use tuples ??\n",
        "\n",
        "\n",
        "*  Immuatble(safe for dictionary keys)\n",
        "*  Slighlty faster than list\n",
        "*  Good for fixed collections\n",
        "\n"
      ],
      "metadata": {
        "id": "g5i8oCPFF4nu"
      }
    },
    {
      "cell_type": "markdown",
      "source": [
        "####Dictionary"
      ],
      "metadata": {
        "id": "zQkP_xIIEJAl"
      }
    },
    {
      "cell_type": "markdown",
      "source": [
        "####Dictionary Creation"
      ],
      "metadata": {
        "id": "GwTB3nTBELlV"
      }
    },
    {
      "cell_type": "code",
      "source": [
        "person={\n",
        "    \"name\":\"Alice\",\n",
        "    \"age\":23,\n",
        "    \"profession\":\"Software Engineer\",\n",
        "    \"salary\":75000,\n",
        "    \"skills\":[\"Python\",\"JavaScript\",\"SQL\"]\n",
        "}"
      ],
      "metadata": {
        "id": "oRVZ8m9BESM1"
      },
      "execution_count": null,
      "outputs": []
    },
    {
      "cell_type": "markdown",
      "source": [
        "####Accessing Values"
      ],
      "metadata": {
        "id": "kj24ZyL6E2Me"
      }
    },
    {
      "cell_type": "code",
      "source": [
        "print(f\"Name:{person['name']}\")\n",
        "print(f\"Age:{person.get('age','Unknown')}\")#sAFE ACCESS"
      ],
      "metadata": {
        "colab": {
          "base_uri": "https://localhost:8080/"
        },
        "id": "ZUnXZmwKE7EN",
        "outputId": "df97ec6e-b721-4ed8-9ae8-b2eb598bd892"
      },
      "execution_count": null,
      "outputs": [
        {
          "output_type": "stream",
          "name": "stdout",
          "text": [
            "Name:Alice\n",
            "Age:23\n"
          ]
        }
      ]
    },
    {
      "cell_type": "markdown",
      "source": [
        "####Dictionary Methods"
      ],
      "metadata": {
        "id": "yrqiCUBoFoKN"
      }
    },
    {
      "cell_type": "code",
      "source": [
        "print(f\"Keys:{list(person.keys())}\")\n",
        "print(f\"Values:{list(person.values())}\")\n",
        "print(f\"Items:{list(person.items())}\")"
      ],
      "metadata": {
        "colab": {
          "base_uri": "https://localhost:8080/"
        },
        "id": "hKSayMbiFyBN",
        "outputId": "cbb4c32f-90e9-4861-98d5-c81a50b7a713"
      },
      "execution_count": null,
      "outputs": [
        {
          "output_type": "stream",
          "name": "stdout",
          "text": [
            "Keys:['name', 'age', 'profession', 'salary', 'skills']\n",
            "Values:['Alice', 23, 'Software Engineer', 75000, ['Python', 'JavaScript', 'SQL']]\n",
            "Items:[('name', 'Alice'), ('age', 23), ('profession', 'Software Engineer'), ('salary', 75000), ('skills', ['Python', 'JavaScript', 'SQL'])]\n"
          ]
        }
      ]
    },
    {
      "cell_type": "markdown",
      "source": [
        "####Adding/Updating"
      ],
      "metadata": {
        "id": "qMZ6Q1tVGfh9"
      }
    },
    {
      "cell_type": "code",
      "source": [
        "person[\"location\"]=\"New York\"\n",
        "person[\"Salary\"]=80000 # Update existing"
      ],
      "metadata": {
        "id": "qPxfdiy5Gk60"
      },
      "execution_count": null,
      "outputs": []
    },
    {
      "cell_type": "markdown",
      "source": [
        "####Practical UseCase:Inventory Management"
      ],
      "metadata": {
        "id": "PDqAZVT1GQBl"
      }
    },
    {
      "cell_type": "code",
      "source": [
        "inventory={\n",
        "    \"laptops\":{\n",
        "          \"quantity\":50,\n",
        "          \"price\":999.99\n",
        "    },\n",
        "    \"phones\":{\n",
        "          \"quantity\":100,\n",
        "          \"price\":599.99\n",
        "    },\n",
        "    \"tablets\":{\n",
        "          \"quantity\":30,\n",
        "          \"price\":399.99\n",
        "    }\n",
        "}"
      ],
      "metadata": {
        "id": "IQhJC0syG18V"
      },
      "execution_count": null,
      "outputs": []
    },
    {
      "cell_type": "markdown",
      "source": [
        "####Nested Access"
      ],
      "metadata": {
        "id": "CwkWZiesHxB9"
      }
    },
    {
      "cell_type": "code",
      "source": [
        "print(f\"Laptop price:${inventory['laptops']['price']}\")"
      ],
      "metadata": {
        "colab": {
          "base_uri": "https://localhost:8080/"
        },
        "id": "H1ApCtwaHz09",
        "outputId": "b889e1a2-dc0b-4e8a-e207-4f939fcafb01"
      },
      "execution_count": null,
      "outputs": [
        {
          "output_type": "stream",
          "name": "stdout",
          "text": [
            "Laptop price:$999.99\n"
          ]
        }
      ]
    },
    {
      "cell_type": "markdown",
      "source": [
        "##Sets"
      ],
      "metadata": {
        "id": "sbvFt_MgIhDl"
      }
    },
    {
      "cell_type": "markdown",
      "source": [
        "####Sets contain unique elements"
      ],
      "metadata": {
        "id": "0-CgSHy3Ikel"
      }
    },
    {
      "cell_type": "code",
      "source": [
        "colors={\"red\",\"green\",\"blue\",\"red\"} # duplicate removed\n",
        "print(f\"Colors:{colors}\")"
      ],
      "metadata": {
        "colab": {
          "base_uri": "https://localhost:8080/"
        },
        "id": "QFyrJWSiIjeN",
        "outputId": "c49f87a9-36ed-4f63-f125-0713fd05954d"
      },
      "execution_count": null,
      "outputs": [
        {
          "output_type": "stream",
          "name": "stdout",
          "text": [
            "Colors:{'green', 'blue', 'red'}\n"
          ]
        }
      ]
    },
    {
      "cell_type": "markdown",
      "source": [
        "###Set Operations"
      ],
      "metadata": {
        "id": "r-n6MHZII_U9"
      }
    },
    {
      "cell_type": "code",
      "source": [
        "team1_skills={\"Python\",\"JavaScript\",\"SQL\",\"React\"}\n",
        "team2_skills={\"JavaScript\",\"SQL\",\"Java\",\"Spring\"}"
      ],
      "metadata": {
        "id": "OHbiFb27JJb3"
      },
      "execution_count": null,
      "outputs": []
    },
    {
      "cell_type": "markdown",
      "source": [
        "####Common Oprations"
      ],
      "metadata": {
        "id": "zpjb4WyeKd-F"
      }
    },
    {
      "cell_type": "code",
      "source": [
        "print(f\"Common Skills:{team1_skills.intersection(team2_skills)}\")\n",
        "print(f\"All Skills:{team1_skills.union(team2_skills)}\")\n",
        "print(f\"Team1_Only:{team1_skills.difference(team2_skills)}\")"
      ],
      "metadata": {
        "colab": {
          "base_uri": "https://localhost:8080/"
        },
        "id": "pt1sNxfLKgXN",
        "outputId": "24881b7f-387c-40e0-8950-74c8bfb92032"
      },
      "execution_count": null,
      "outputs": [
        {
          "output_type": "stream",
          "name": "stdout",
          "text": [
            "Common Skills:{'JavaScript', 'SQL'}\n",
            "All Skills:{'JavaScript', 'SQL', 'Spring', 'React', 'Java', 'Python'}\n",
            "Team1_Only:{'Python', 'React'}\n"
          ]
        }
      ]
    },
    {
      "cell_type": "markdown",
      "source": [
        "####Adding Sets"
      ],
      "metadata": {
        "id": "izfW8eH8LY7O"
      }
    },
    {
      "cell_type": "code",
      "source": [
        "colors.add(\"yellow\")\n",
        "colors.update([\"purple\",\"orange\"])\n",
        "print(f\"Updated colors:{colors}\")\n"
      ],
      "metadata": {
        "colab": {
          "base_uri": "https://localhost:8080/"
        },
        "id": "Mt9q4Hj0LbUv",
        "outputId": "8c39fa03-992a-4dc6-92e5-bdfffc7a475d"
      },
      "execution_count": null,
      "outputs": [
        {
          "output_type": "stream",
          "name": "stdout",
          "text": [
            "Updated colors:{'yellow', 'red', 'green', 'blue', 'purple', 'orange'}\n"
          ]
        }
      ]
    },
    {
      "cell_type": "markdown",
      "source": [
        "##Control Flow"
      ],
      "metadata": {
        "id": "v3WXPF7uNPO-"
      }
    },
    {
      "cell_type": "markdown",
      "source": [
        "####Conditional Statements"
      ],
      "metadata": {
        "id": "aYvMoVTTNTbV"
      }
    },
    {
      "cell_type": "markdown",
      "source": [
        "######Basic if-else"
      ],
      "metadata": {
        "id": "6gPZ5Fs3NaWe"
      }
    },
    {
      "cell_type": "code",
      "source": [
        "def get_grade_letter(score):\n",
        "  if score>=90:\n",
        "    return \"A\"\n",
        "  elif score >=80:\n",
        "    return \"B\"\n",
        "  elif score >=70:\n",
        "    return \"C\"\n",
        "  elif score >=60:\n",
        "    return \"D\"\n",
        "  else:\n",
        "    return\"F\""
      ],
      "metadata": {
        "id": "wr8faVCANwSv"
      },
      "execution_count": null,
      "outputs": []
    },
    {
      "cell_type": "markdown",
      "source": [
        "####Test The Fumction"
      ],
      "metadata": {
        "id": "hXMbiTMTQPWm"
      }
    },
    {
      "cell_type": "code",
      "source": [
        "test_scores=[95,83,72,65,58]\n",
        "for score in test_scores:\n",
        "  grade=get_grade_letter(score)\n",
        "  print(f\"Score {score}:Grade {grade}\")"
      ],
      "metadata": {
        "colab": {
          "base_uri": "https://localhost:8080/"
        },
        "id": "wb8fK9KJQUVt",
        "outputId": "45f3518d-90cf-4df4-86a9-a9bce53982e6"
      },
      "execution_count": null,
      "outputs": [
        {
          "output_type": "stream",
          "name": "stdout",
          "text": [
            "Score 95:Grade A\n",
            "Score 83:Grade B\n",
            "Score 72:Grade C\n",
            "Score 65:Grade D\n",
            "Score 58:Grade F\n"
          ]
        }
      ]
    },
    {
      "cell_type": "markdown",
      "source": [
        "####Nested Conditions"
      ],
      "metadata": {
        "id": "s7sFlZrDQ9nn"
      }
    },
    {
      "cell_type": "code",
      "source": [
        "def get_shipping_cost(weight,distance):\n",
        "  base_cost=5.0\n",
        "\n",
        "  if weight <=1:\n",
        "   weight_cost=2.0\n",
        "  elif weight <=5:\n",
        "    weight_cost=5.0\n",
        "  else:\n",
        "    weight_cost=10.0\n",
        "\n",
        "  if distance <=100:\n",
        "    distance_cost=1.0\n",
        "  elif distance <=500:\n",
        "    distance_cost=3.0\n",
        "  else:\n",
        "    distance_cost=7.0\n",
        "  return base_cost + weight_cost + distance_cost"
      ],
      "metadata": {
        "id": "95HowWxARNBG"
      },
      "execution_count": null,
      "outputs": []
    },
    {
      "cell_type": "markdown",
      "source": [
        "####Test Shipping Costs"
      ],
      "metadata": {
        "id": "K3p8_gD6SU2O"
      }
    },
    {
      "cell_type": "code",
      "source": [
        "print(f\"Light, close: ${get_shipping_cost(0.5 ,50)}\")\n",
        "print(f\"Heavy, far: ${get_shipping_cost(10 ,800)}\")"
      ],
      "metadata": {
        "colab": {
          "base_uri": "https://localhost:8080/"
        },
        "id": "NHZ_Z6bKSXf2",
        "outputId": "7fd29000-f0d8-4bfb-ade4-04c12d0fdd70"
      },
      "execution_count": null,
      "outputs": [
        {
          "output_type": "stream",
          "name": "stdout",
          "text": [
            "Light, close: $8.0\n",
            "Heavy, far: $22.0\n"
          ]
        }
      ]
    },
    {
      "cell_type": "markdown",
      "source": [
        "###Loops-For Loop"
      ],
      "metadata": {
        "id": "eaJ_Ra4sTWB1"
      }
    },
    {
      "cell_type": "markdown",
      "source": [
        "####Basic For Loop"
      ],
      "metadata": {
        "id": "Vk2scjDvUj_P"
      }
    },
    {
      "cell_type": "code",
      "source": [
        "fruits=[\"apple\",\"banana\",\"orange\",\"grape\"]\n",
        "for fruit in fruits:\n",
        "  print(f\"I like {fruit}\")"
      ],
      "metadata": {
        "colab": {
          "base_uri": "https://localhost:8080/"
        },
        "id": "nCQukTI8TbMO",
        "outputId": "dd72755d-9f5c-4524-bfaa-8375fa918985"
      },
      "execution_count": null,
      "outputs": [
        {
          "output_type": "stream",
          "name": "stdout",
          "text": [
            "I like apple\n",
            "I like banana\n",
            "I like orange\n",
            "I like grape\n"
          ]
        }
      ]
    },
    {
      "cell_type": "markdown",
      "source": [
        "####Loops with enumerate (get index)"
      ],
      "metadata": {
        "id": "aOuMPRDnWbo_"
      }
    },
    {
      "cell_type": "code",
      "source": [
        "for i,fruit in enumerate(fruits):\n",
        "  print(f\"{i+1}.{fruit}\")"
      ],
      "metadata": {
        "colab": {
          "base_uri": "https://localhost:8080/"
        },
        "id": "UCKc3c_BWgsP",
        "outputId": "237fb791-1396-4d17-935b-6b31ade49ba7"
      },
      "execution_count": null,
      "outputs": [
        {
          "output_type": "stream",
          "name": "stdout",
          "text": [
            "1.apple\n",
            "2.banana\n",
            "3.orange\n",
            "4.grape\n"
          ]
        }
      ]
    },
    {
      "cell_type": "markdown",
      "source": [
        "####Loop With Range"
      ],
      "metadata": {
        "id": "EPZN8a5gXTSg"
      }
    },
    {
      "cell_type": "code",
      "source": [
        "for day in  range(1,8):\n",
        "  print(f\"Day {day} of the week\")"
      ],
      "metadata": {
        "colab": {
          "base_uri": "https://localhost:8080/"
        },
        "id": "uQz8vE1PXpz4",
        "outputId": "d70567fb-36c1-4b02-d8f3-00b52b6f9d56"
      },
      "execution_count": null,
      "outputs": [
        {
          "output_type": "stream",
          "name": "stdout",
          "text": [
            "Day 1 of the week\n",
            "Day 2 of the week\n",
            "Day 3 of the week\n",
            "Day 4 of the week\n",
            "Day 5 of the week\n",
            "Day 6 of the week\n",
            "Day 7 of the week\n"
          ]
        }
      ]
    },
    {
      "cell_type": "markdown",
      "source": [
        "####Nested loops-Creating a multiplication table"
      ],
      "metadata": {
        "id": "kyrPCCz-YG8Y"
      }
    },
    {
      "cell_type": "code",
      "source": [
        "print(f\"Multiplication Talbe\")\n",
        "for i in range (1,6):\n",
        "  for j in range(1,6):\n",
        "    product=i+j\n",
        "    print(f\"{i}X{j}={product:2d}\",end=\"\")\n",
        "    print() # new line after each row"
      ],
      "metadata": {
        "colab": {
          "base_uri": "https://localhost:8080/"
        },
        "id": "epnE81VNYZZX",
        "outputId": "dc3fec44-6081-4f7c-af0a-7929d0265f38"
      },
      "execution_count": null,
      "outputs": [
        {
          "output_type": "stream",
          "name": "stdout",
          "text": [
            "Multiplication Talbe\n",
            "1X1= 2\n",
            "1X2= 3\n",
            "1X3= 4\n",
            "1X4= 5\n",
            "1X5= 6\n",
            "2X1= 3\n",
            "2X2= 4\n",
            "2X3= 5\n",
            "2X4= 6\n",
            "2X5= 7\n",
            "3X1= 4\n",
            "3X2= 5\n",
            "3X3= 6\n",
            "3X4= 7\n",
            "3X5= 8\n",
            "4X1= 5\n",
            "4X2= 6\n",
            "4X3= 7\n",
            "4X4= 8\n",
            "4X5= 9\n",
            "5X1= 6\n",
            "5X2= 7\n",
            "5X3= 8\n",
            "5X4= 9\n",
            "5X5=10\n"
          ]
        }
      ]
    },
    {
      "cell_type": "markdown",
      "source": [
        "####Processing data with loops"
      ],
      "metadata": {
        "id": "4KzCvx7PZQ7W"
      }
    },
    {
      "cell_type": "code",
      "source": [
        "sales_data=[\n",
        "    {\"product\":\"Laptop\",\"price\":999,\"quantity\":5},\n",
        "    {\"product\":\"Phone\",\"price\":599,\"quantity\":10},\n",
        "    {\"product\":\"Tablets\",\"price\":399,\"quantity\":8},\n",
        "]\n",
        "\n",
        "total_revenue = 0\n",
        "\n",
        "for item in sales_data:\n",
        "  item_revenue=item[\"price\"] *item[\"quantity\"]\n",
        "  total_revenue+=item_revenue\n",
        "  print(f\"{item['product']}:${item_revenue}\")\n",
        "print(f\"Total Revenue:${total_revenue}\")"
      ],
      "metadata": {
        "colab": {
          "base_uri": "https://localhost:8080/"
        },
        "id": "-gb9QggpZVy3",
        "outputId": "081bd5ab-1d58-4b67-d964-68260f41dacf"
      },
      "execution_count": null,
      "outputs": [
        {
          "output_type": "stream",
          "name": "stdout",
          "text": [
            "Laptop:$4995\n",
            "Phone:$5990\n",
            "Tablets:$3192\n",
            "Total Revenue:$14177\n"
          ]
        }
      ]
    },
    {
      "cell_type": "markdown",
      "source": [
        "###Loops - While loop"
      ],
      "metadata": {
        "id": "4STHvaArrQM0"
      }
    },
    {
      "cell_type": "markdown",
      "source": [
        "#####While loop for user input simulation"
      ],
      "metadata": {
        "id": "yQdCUeCEsgqV"
      }
    },
    {
      "cell_type": "code",
      "source": [
        "def simple_guessing_game():\n",
        "  target=7\n",
        "  guess=0\n",
        "  attempts=0\n",
        "  print(\"Guess the number between 1 to 10!\")\n",
        "\n",
        "  while guess != target:\n",
        "\n",
        "    #Simulate user input\n",
        "    import random\n",
        "    guess=random.randint(1,10)\n",
        "    attempts += 1\n",
        "\n",
        "    if guess < target:\n",
        "      print(f\"Guess {attempts}: {guess} - Too low!\")\n",
        "    elif guess < target:\n",
        "      print(f\"Guess {attempts}: {guess} - Too high!\")\n",
        "    else:\n",
        "      print(f\"Guess {attempts}: {guess} - Correct!\")\n",
        "\n",
        "  #Safety Check\n",
        "      if attempts>10:\n",
        "        print(\"Max attempts reached!\")\n",
        "        break\n",
        "\n",
        "      print(f\"Game finished in {attempts} attempts\")\n",
        "\n",
        "simple_guessing_game()\n"
      ],
      "metadata": {
        "colab": {
          "base_uri": "https://localhost:8080/"
        },
        "id": "30fGS4VcuKIE",
        "outputId": "18afd486-2efe-48b7-c7d0-5fefcfee0a95"
      },
      "execution_count": null,
      "outputs": [
        {
          "output_type": "stream",
          "name": "stdout",
          "text": [
            "Guess the number between 1 to 10!\n",
            "Guess 1: 6 - Too low!\n",
            "Game finished in 1 attempts\n",
            "Guess 2: 6 - Too low!\n",
            "Game finished in 2 attempts\n",
            "Guess 3: 6 - Too low!\n",
            "Game finished in 3 attempts\n",
            "Guess 4: 8 - Correct!\n",
            "Game finished in 4 attempts\n",
            "Guess 5: 9 - Correct!\n",
            "Game finished in 5 attempts\n",
            "Guess 6: 8 - Correct!\n",
            "Game finished in 6 attempts\n",
            "Guess 7: 6 - Too low!\n",
            "Game finished in 7 attempts\n",
            "Guess 8: 1 - Too low!\n",
            "Game finished in 8 attempts\n",
            "Guess 9: 7 - Correct!\n",
            "Game finished in 9 attempts\n"
          ]
        }
      ]
    },
    {
      "cell_type": "markdown",
      "source": [
        "####While loop for processing"
      ],
      "metadata": {
        "id": "MbAa5YNJy5sF"
      }
    },
    {
      "cell_type": "code",
      "source": [
        "def process_queue():\n",
        "  queue=[\"Task1\",\"Task2\",\"Task3\",\"Task4\"]\n",
        "\n",
        "  while queue:\n",
        "    current_task=queue.pop(0) # remove first item\n",
        "    print(f\"Processing:{current_task}\")\n",
        "\n",
        "    print(f\"Remaining tasks:{len(queue)}\")\n",
        "  print(f\"All Tasks Completed!\")\n",
        "\n",
        "process_queue()"
      ],
      "metadata": {
        "colab": {
          "base_uri": "https://localhost:8080/"
        },
        "id": "8dhdEDgzy919",
        "outputId": "bbd4b6b3-d457-42f2-b57a-9b9772cd3c3e"
      },
      "execution_count": null,
      "outputs": [
        {
          "output_type": "stream",
          "name": "stdout",
          "text": [
            "Processing:Task1\n",
            "Remaining tasks:3\n",
            "Processing:Task2\n",
            "Remaining tasks:2\n",
            "Processing:Task3\n",
            "Remaining tasks:1\n",
            "Processing:Task4\n",
            "Remaining tasks:0\n",
            "All Tasks Completed!\n"
          ]
        }
      ]
    },
    {
      "cell_type": "markdown",
      "source": [
        "###Function"
      ],
      "metadata": {
        "id": "NBVhQRsG0C8t"
      }
    },
    {
      "cell_type": "markdown",
      "source": [
        "####Function Basics"
      ],
      "metadata": {
        "id": "e2ncGgcw0VkN"
      }
    },
    {
      "cell_type": "markdown",
      "source": [
        "#####Basic function definition"
      ],
      "metadata": {
        "id": "5tK5_dPd1IRl"
      }
    },
    {
      "cell_type": "code",
      "source": [
        "def greet(name):\n",
        "  return f\"Hello , {name}!\""
      ],
      "metadata": {
        "id": "mFDJBXPU1W09"
      },
      "execution_count": null,
      "outputs": []
    },
    {
      "cell_type": "markdown",
      "source": [
        "####Function Call"
      ],
      "metadata": {
        "id": "SaOFz8P71pa9"
      }
    },
    {
      "cell_type": "code",
      "source": [
        "message = greet(\"Python Programmer\")\n",
        "print(message)"
      ],
      "metadata": {
        "colab": {
          "base_uri": "https://localhost:8080/"
        },
        "id": "c6J2vtZA1sHF",
        "outputId": "b8db61bf-2202-414a-d299-ce7139eb86b7"
      },
      "execution_count": null,
      "outputs": [
        {
          "output_type": "stream",
          "name": "stdout",
          "text": [
            "Hello , Python Programmer!\n"
          ]
        }
      ]
    },
    {
      "cell_type": "markdown",
      "source": [
        "####Function with multiple parameters"
      ],
      "metadata": {
        "id": "jmV3cE_F2GXd"
      }
    },
    {
      "cell_type": "code",
      "source": [
        "def calculate_area(length,width):\n",
        "  area=length * width\n",
        "  return area"
      ],
      "metadata": {
        "id": "Aq3tsiGT2K9V"
      },
      "execution_count": null,
      "outputs": []
    },
    {
      "cell_type": "markdown",
      "source": [
        "####Test The Function"
      ],
      "metadata": {
        "id": "HoCxW_rs2dpe"
      }
    },
    {
      "cell_type": "code",
      "source": [
        "room_area = calculate_area(12,10)\n",
        "print(f\"Room area: {room_area} square feet\")"
      ],
      "metadata": {
        "id": "1hStfSWY2hrF"
      },
      "execution_count": null,
      "outputs": []
    },
    {
      "cell_type": "markdown",
      "source": [
        "####Function With Default Parameters"
      ],
      "metadata": {
        "id": "0UJdVNd03WY1"
      }
    },
    {
      "cell_type": "code",
      "source": [
        "def create_user_profile(name,age=18,location=\"Unknown\",active=True):\n",
        "  return{\n",
        "      \"name\":name,\n",
        "      \"age\":age,\n",
        "      \"location\":location,\n",
        "      \"active\":active\n",
        "  }"
      ],
      "metadata": {
        "id": "GtHAVCEd26sl"
      },
      "execution_count": null,
      "outputs": []
    },
    {
      "cell_type": "markdown",
      "source": [
        "#####Different Ways To Call"
      ],
      "metadata": {
        "id": "Jn_DjRXR3pEd"
      }
    },
    {
      "cell_type": "code",
      "source": [
        "profile1=create_user_profile(\"Alice\") #Use defaults\n",
        "profile2=create_user_profile(\"Bob\",25) #Override age\n",
        "profile3=create_user_profile(\"Charlie\",location=\"New York\",age=30) #Named Parameters\n",
        "\n",
        "print(f\"Profile1:{profile1}\")\n",
        "print(f\"Profile2:{profile2}\")\n",
        "print(f\"Profile1:{profile3}\")"
      ],
      "metadata": {
        "colab": {
          "base_uri": "https://localhost:8080/"
        },
        "id": "gDdKsUa04w0u",
        "outputId": "ec0073a0-6d71-4e12-eca0-e31062927e2c"
      },
      "execution_count": null,
      "outputs": [
        {
          "output_type": "stream",
          "name": "stdout",
          "text": [
            "Profile1:{'name': 'Alice', 'age': 18, 'location': 'Unknown', 'active': True}\n",
            "Profile2:{'name': 'Bob', 'age': 25, 'location': 'Unknown', 'active': True}\n",
            "Profile1:{'name': 'Charlie', 'age': 30, 'location': 'New York', 'active': True}\n"
          ]
        }
      ]
    },
    {
      "cell_type": "markdown",
      "source": [
        "####Advanced Function Concepts"
      ],
      "metadata": {
        "id": "Q7p1yi-t7Xtu"
      }
    },
    {
      "cell_type": "markdown",
      "source": [
        "####Functions returning multiple values"
      ],
      "metadata": {
        "id": "Fy89m5wl7b-t"
      }
    },
    {
      "cell_type": "code",
      "source": [
        "def analyze_text(text):\n",
        "  words= text.split()\n",
        "  word_count= len(words)\n",
        "  char_count= len(text)\n",
        "  char_count_no_spaces = len(text.replace(\" \",\"\"))\n",
        "\n",
        "  return word_count,char_count,char_count_no_spaces\n"
      ],
      "metadata": {
        "id": "p5gt-7vV7hsm"
      },
      "execution_count": null,
      "outputs": []
    },
    {
      "cell_type": "markdown",
      "source": [
        "####Test With Sample Text"
      ],
      "metadata": {
        "id": "Z56emOhs9RNW"
      }
    },
    {
      "cell_type": "code",
      "source": [
        "sample_text=\"Python is a powerful programming language\"\n",
        "\n",
        "words,chars,chars_no_space= analyze_text(sample_text)\n",
        "\n",
        "print(f\"Text: '{sample_text}'\")\n",
        "print(f\"Word count:{words}\")\n",
        "print(f\"Character count:{chars}\")\n",
        "print(f\"Characters (no spaces): {chars_no_space}\")"
      ],
      "metadata": {
        "colab": {
          "base_uri": "https://localhost:8080/"
        },
        "id": "-btFTTVP9WPN",
        "outputId": "ab02047c-6caa-4b21-93d4-2c23d8ff40bd"
      },
      "execution_count": null,
      "outputs": [
        {
          "output_type": "stream",
          "name": "stdout",
          "text": [
            "Text: 'Python is a powerful programming language'\n",
            "Word count:6\n",
            "Character count:41\n",
            "Characters (no spaces): 36\n"
          ]
        }
      ]
    },
    {
      "cell_type": "markdown",
      "source": [
        "####Variables-Length arguments"
      ],
      "metadata": {
        "id": "p1joEKP6_ybu"
      }
    },
    {
      "cell_type": "code",
      "source": [
        "def calculate_average(*numbers):\n",
        "  if not numbers:\n",
        "    return 0\n",
        "\n",
        "  return sum(numbers) / len(numbers)"
      ],
      "metadata": {
        "id": "COq_Opsp_7Se"
      },
      "execution_count": null,
      "outputs": []
    },
    {
      "cell_type": "markdown",
      "source": [
        "####Test With Different Arguments"
      ],
      "metadata": {
        "id": "5zAeJgiaAO9-"
      }
    },
    {
      "cell_type": "code",
      "source": [
        "avg1=calculate_average(10,20,30)\n",
        "avg2=calculate_average(5,15,25,35,45)\n",
        "avg3=calculate_average(100)\n",
        "\n",
        "print(f\"Average of 10,20,30: {avg1}\")\n",
        "print(f\"Average of 5,15,25,35,45: {avg2}\")\n",
        "print(f\"Average of 100: {avg3}\")\n"
      ],
      "metadata": {
        "colab": {
          "base_uri": "https://localhost:8080/"
        },
        "id": "0BAupE6jAVVG",
        "outputId": "58cde2c0-abec-4979-cb0c-b1e910b9d4e7"
      },
      "execution_count": null,
      "outputs": [
        {
          "output_type": "stream",
          "name": "stdout",
          "text": [
            "Average of 10,20,30: 20.0\n",
            "Average of 5,15,25,35,45: 25.0\n",
            "Average of 100: 100.0\n"
          ]
        }
      ]
    },
    {
      "cell_type": "markdown",
      "source": [
        "####Keyword Arguments"
      ],
      "metadata": {
        "id": "VpTQ62SrBKpm"
      }
    },
    {
      "cell_type": "code",
      "source": [
        "def create_report(**data):\n",
        "  print(\"=============REPORT=================\")\n",
        "\n",
        "  for key,value in data.items():\n",
        "    print(f\"{key.replace('_',' ').title()}:{value}\")\n",
        "\n",
        "  print(f\"=====================================\")\n",
        "\n",
        "create_report(\n",
        "    title=\"Monthly Sales Report\",\n",
        "    data=\"2024-01-01\",\n",
        "    total_sales=15000,\n",
        "    new_customers=25,\n",
        "    returning_customers=150\n",
        ")"
      ],
      "metadata": {
        "colab": {
          "base_uri": "https://localhost:8080/"
        },
        "id": "mv1CMEAOBTLu",
        "outputId": "113806fa-1735-4226-d3ad-a87e214186ef"
      },
      "execution_count": null,
      "outputs": [
        {
          "output_type": "stream",
          "name": "stdout",
          "text": [
            "=============REPORT=================\n",
            "Title:Monthly Sales Report\n",
            "Data:2024-01-01\n",
            "Total Sales:15000\n",
            "New Customers:25\n",
            "Returning Customers:150\n",
            "=====================================\n"
          ]
        }
      ]
    },
    {
      "cell_type": "markdown",
      "source": [
        "####Lambda Functions"
      ],
      "metadata": {
        "id": "BmM3lNniDMC-"
      }
    },
    {
      "cell_type": "markdown",
      "source": [
        "Lambda functions(anonymous function)"
      ],
      "metadata": {
        "id": "m2AG0TdZDRbW"
      }
    },
    {
      "cell_type": "markdown",
      "source": [
        "####Regular function"
      ],
      "metadata": {
        "id": "zXrHnZAsDaSe"
      }
    },
    {
      "cell_type": "code",
      "source": [
        "def square(x):\n",
        "  return x ** 2"
      ],
      "metadata": {
        "id": "8n2_TvnYDhSn"
      },
      "execution_count": null,
      "outputs": []
    },
    {
      "cell_type": "markdown",
      "source": [
        "#####Lambda Equivalent"
      ],
      "metadata": {
        "id": "mVbzD4gzFgq9"
      }
    },
    {
      "cell_type": "code",
      "source": [
        "square_lambda = lambda x: x ** 2\n",
        "print(f\"Regular function: {square(5)}\")\n",
        "print(f\"Lambda function: {square_lambda(5)}\")\n"
      ],
      "metadata": {
        "colab": {
          "base_uri": "https://localhost:8080/"
        },
        "id": "PCsda_owFmXG",
        "outputId": "55b57777-8584-4974-e5be-ce29f9c498cf"
      },
      "execution_count": null,
      "outputs": [
        {
          "output_type": "stream",
          "name": "stdout",
          "text": [
            "Regular function: 25\n",
            "Lambda function: 25\n"
          ]
        }
      ]
    },
    {
      "cell_type": "markdown",
      "source": [
        "#####Lambda With Multiple Arguments"
      ],
      "metadata": {
        "id": "rRUzZX2DG1T2"
      }
    },
    {
      "cell_type": "code",
      "source": [
        "multiply = lambda x,y: x* y\n",
        "print(f\"Multiply: {multiply(3,4)}\")"
      ],
      "metadata": {
        "colab": {
          "base_uri": "https://localhost:8080/"
        },
        "id": "E-_Nuj7GG7PG",
        "outputId": "ac73726f-921a-4f6b-d21f-ddf331ce67a3"
      },
      "execution_count": null,
      "outputs": [
        {
          "output_type": "stream",
          "name": "stdout",
          "text": [
            "Multiply: 12\n"
          ]
        }
      ]
    },
    {
      "cell_type": "markdown",
      "source": [
        "####Lambda With Built-In Functions"
      ],
      "metadata": {
        "id": "ORgFC04LHGo2"
      }
    },
    {
      "cell_type": "code",
      "source": [
        "numbers=[1,2,3,4,5]\n",
        "squared= list(map(lambda x: x**2, numbers))\n",
        "print(f\"Squared numbers:{squared}\")"
      ],
      "metadata": {
        "colab": {
          "base_uri": "https://localhost:8080/"
        },
        "id": "wPvpy9PfHOJO",
        "outputId": "b12742ab-3c96-4032-a4df-4c1a6c5fd7da"
      },
      "execution_count": null,
      "outputs": [
        {
          "output_type": "stream",
          "name": "stdout",
          "text": [
            "Squared numbers:[1, 4, 9, 16, 25]\n"
          ]
        }
      ]
    },
    {
      "cell_type": "markdown",
      "source": [
        "####Filtering With Lambda"
      ],
      "metadata": {
        "id": "gYL1ixmpHsmW"
      }
    },
    {
      "cell_type": "code",
      "source": [
        "ages=[16,21,35,12,45,18,67]\n",
        "adults= list(filter(lambda age:age >=18, ages))\n",
        "print(f\"Adult ages: {adults}\")"
      ],
      "metadata": {
        "colab": {
          "base_uri": "https://localhost:8080/"
        },
        "id": "JXMMaQ9WHwdu",
        "outputId": "8b32e32e-ed66-49ca-c8b3-7bf97944839e"
      },
      "execution_count": null,
      "outputs": [
        {
          "output_type": "stream",
          "name": "stdout",
          "text": [
            "Adult ages: [21, 35, 45, 18, 67]\n"
          ]
        }
      ]
    },
    {
      "cell_type": "markdown",
      "source": [
        "####Sorting With Lambda"
      ],
      "metadata": {
        "id": "RdDaN_QcIxrP"
      }
    },
    {
      "cell_type": "code",
      "source": [
        "people=[\n",
        "    {\"name\":\"ALICE\",\"age\":30},\n",
        "    {\"name\":\"BOB\",\"age\":25},\n",
        "    {\"name\":\"CHARLIE\",\"age\":35}\n",
        "]\n",
        "\n",
        "sorted_people=sorted(\n",
        "    people,\n",
        "    key=lambda person: person[\"age\"])\n",
        "print(\"People sorted by age:\")\n",
        "\n",
        "for person in sorted_people:\n",
        "  print(f\"{person['name']}: {person['age']}\")"
      ],
      "metadata": {
        "colab": {
          "base_uri": "https://localhost:8080/"
        },
        "id": "HOYgCOVWI4k3",
        "outputId": "d318eca2-f9ce-4d50-a4cd-29b2326fe07e"
      },
      "execution_count": null,
      "outputs": [
        {
          "output_type": "stream",
          "name": "stdout",
          "text": [
            "People sorted by age:\n",
            "BOB: 25\n",
            "ALICE: 30\n",
            "CHARLIE: 35\n"
          ]
        }
      ]
    },
    {
      "cell_type": "markdown",
      "source": [],
      "metadata": {
        "id": "qitiB3glSRjg"
      }
    }
  ]
}